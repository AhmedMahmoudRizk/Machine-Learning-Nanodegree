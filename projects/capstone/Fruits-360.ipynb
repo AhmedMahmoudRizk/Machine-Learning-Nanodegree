{
 "cells": [
  {
   "cell_type": "code",
   "execution_count": 68,
   "metadata": {
    "_cell_guid": "b1076dfc-b9ad-4769-8c92-a6c4dae69d19",
    "_uuid": "8f2839f25d086af736a60e9eeb907d3b93b6e0e5"
   },
   "outputs": [
    {
     "name": "stdout",
     "output_type": "stream",
     "text": [
      "['fruits-360_dataset']\n",
      "['fruits-360']\n",
      "['test-multiple_fruits', 'readme.md', 'Test', 'LICENSE', 'papers', 'Training']\n"
     ]
    }
   ],
   "source": [
    "# This Python 3 environment comes with many helpful analytics libraries installed\n",
    "# It is defined by the kaggle/python docker image: https://github.com/kaggle/docker-python\n",
    "# For example, here's several helpful packages to load in \n",
    "\n",
    "import numpy as np # linear algebra\n",
    "import pandas as pd # data processing, CSV file I/O (e.g. pd.read_csv)\n",
    "import numpy as np\n",
    "import pandas as pd\n",
    "import matplotlib.pyplot as plt\n",
    "%matplotlib inline\n",
    "from keras import *\n",
    "from keras.models import Sequential\n",
    "from keras.layers import Dense, Dropout, Activation, Flatten\n",
    "from keras.optimizers import Adam\n",
    "from keras.layers.normalization import BatchNormalization\n",
    "from keras.utils import np_utils\n",
    "from keras.layers import Conv2D, MaxPooling2D, ZeroPadding2D, GlobalAveragePooling2D\n",
    "#from keras.layers.advanced_activations import LeakyReLU\n",
    "from keras.preprocessing.image import ImageDataGenerator\n",
    "#from sklearn.model_selection import train_test_split\n",
    "from skimage import io\n",
    "import os\n",
    "import scipy.misc\n",
    "from scipy.misc import imread, imresize\n",
    "from keras import regularizers\n",
    "import csv\n",
    "\n",
    "# Input data files are available in the \"../input/\" directory.\n",
    "# For example, running this (by clicking run or pressing Shift+Enter) will list the files in the input directory\n",
    "\n",
    "import os\n",
    "print(os.listdir(\"../input\"))\n",
    "print(os.listdir(\"../input/fruits-360_dataset\"))\n",
    "print(os.listdir(\"../input/fruits-360_dataset/fruits-360\"))\n",
    "# Any results you write to the current directory are saved as output."
   ]
  },
  {
   "cell_type": "markdown",
   "metadata": {},
   "source": [
    "Function to get training and validation images."
   ]
  },
  {
   "cell_type": "code",
   "execution_count": 70,
   "metadata": {
    "_uuid": "c586a9f054d1609b6a1bb48aa134471ccc5b9e61"
   },
   "outputs": [],
   "source": [
    "import cv2\n",
    "\n",
    "def load_images(path):\n",
    "    img_data = []\n",
    "    labels = []\n",
    "    idx_to_label = []\n",
    "    i = -1\n",
    "    for fruit in os.listdir(path):\n",
    "        fruit_path = os.path.join(path,fruit)\n",
    "        labels.append(fruit)\n",
    "        i = i+1\n",
    "        for img in os.listdir(fruit_path):\n",
    "            img_path = os.path.join(fruit_path,img)\n",
    "            image = cv2.imread(img_path)\n",
    "            image = cv2.resize(image, (64, 64))\n",
    "            image = cv2.cvtColor(image, cv2.COLOR_RGB2BGR)\n",
    "            img_data.append(image)\n",
    "            idx_to_label.append(i)\n",
    "    return np.array(img_data),np.array(idx_to_label),labels"
   ]
  },
  {
   "cell_type": "markdown",
   "metadata": {},
   "source": [
    "#### Path Directories\n",
    "The following code gives us a list of all directories contained in our path.\n",
    "\n",
    "- 'Training' : Contains all our training Images.\n",
    "- 'Test' Contains all our Test or validation images.\n",
    "Please note that inside Training/Validation folders all classes of images are separated into different folders."
   ]
  },
  {
   "cell_type": "markdown",
   "metadata": {},
   "source": [
    "Calling the function."
   ]
  },
  {
   "cell_type": "code",
   "execution_count": 71,
   "metadata": {
    "_uuid": "9835634de6003929f124ccd37b62644a6cbce99f"
   },
   "outputs": [
    {
     "name": "stdout",
     "output_type": "stream",
     "text": [
      "['test-multiple_fruits', 'readme.md', 'Test', 'LICENSE', 'papers', 'Training']\n",
      "(41322, 64, 64, 3)\n",
      "(41322,)\n",
      "['Nectarine', 'Kaki', 'Avocado', 'Apple Golden 3', 'Lemon', 'Pear Monster', 'Apple Red Yellow', 'Tomato 1', 'Cherry 2', 'Apple Red 1', 'Pear Abate', 'Mandarine', 'Strawberry', 'Cherry Rainier', 'Cocos', 'Cantaloupe 2', 'Granadilla', 'Pomegranate', 'Lychee', 'Quince', 'Raspberry', 'Tangelo', 'Mango', 'Plum', 'Tamarillo', 'Apple Granny Smith', 'Tomato Maroon', 'Passion Fruit', 'Lemon Meyer', 'Grapefruit White', 'Banana Red', 'Tomato 4', 'Huckleberry', 'Cherry Wax Yellow', 'Physalis with Husk', 'Dates', 'Clementine', 'Strawberry Wedge', 'Pitahaya Red', 'Cherry Wax Red', 'Limes', 'Carambula', 'Tomato 2', 'Apple Red 2', 'Peach', 'Apple Golden 2', 'Cherry 1', 'Tomato 3', 'Physalis', 'Tomato Cherry Red', 'Pepino', 'Maracuja', 'Pear Williams', 'Walnut', 'Pineapple', 'Avocado ripe', 'Papaya', 'Pear', 'Cherry Wax Black', 'Cactus fruit', 'Rambutan', 'Apple Red Delicious', 'Pineapple Mini', 'Grape White', 'Apricot', 'Kumquats', 'Melon Piel de Sapo', 'Kiwi', 'Orange', 'Guava', 'Grape Pink', 'Apple Red 3', 'Peach Flat', 'Cantaloupe 1', 'Grape White 2', 'Mulberry', 'Grapefruit Pink', 'Banana', 'Apple Braeburn', 'Apple Golden 1', 'Salak']\n",
      "(13877,)\n"
     ]
    }
   ],
   "source": [
    "trn_data_path = '../input/fruits-360_dataset/fruits-360/Training'\n",
    "val_data_path = '../input/fruits-360_dataset/fruits-360/Test'\n",
    "X_train,y_train,label_data = load_images(trn_data_path)\n",
    "print(os.listdir(\"../input/fruits-360_dataset/fruits-360\"))\n",
    "print(X_train.shape)\n",
    "print(y_train.shape)\n",
    "print(label_data)\n",
    "X_test,y_test,label_data_garbage = load_images(val_data_path)\n",
    "print(y_test.shape)"
   ]
  },
  {
   "cell_type": "markdown",
   "metadata": {},
   "source": [
    "One hot encoding."
   ]
  },
  {
   "cell_type": "code",
   "execution_count": 72,
   "metadata": {
    "_uuid": "368490d8ec2b300f2fcd7259935c1f60bd2a7027"
   },
   "outputs": [],
   "source": [
    "num_of_classes = 81\n",
    "Y_train = np_utils.to_categorical(y_train, num_of_classes)\n",
    "Y_test = np_utils.to_categorical(y_test, num_of_classes)"
   ]
  },
  {
   "cell_type": "markdown",
   "metadata": {},
   "source": [
    "Model. I played around with the dropout values and achieved better score at 0.7 activations can be Relu, elu, LeakyRelu."
   ]
  },
  {
   "cell_type": "code",
   "execution_count": 73,
   "metadata": {
    "_uuid": "63563fde2979803f24e219f754f7ce697e924097"
   },
   "outputs": [],
   "source": [
    "model = Sequential()\n",
    "\n",
    "model.add(Conv2D(16, (3, 3), input_shape=(64,64,3)))\n",
    "model.add(BatchNormalization())\n",
    "model.add(Activation('relu'))\n",
    "model.add(Conv2D(16, (3, 3)))\n",
    "model.add(BatchNormalization())\n",
    "model.add(Activation('relu'))\n",
    "model.add(MaxPooling2D(pool_size=(2,2)))\n",
    "\n",
    "model.add(Conv2D(32,(3,3 )))\n",
    "model.add(BatchNormalization())\n",
    "model.add(Activation('relu'))\n",
    "model.add(Conv2D(32, (3, 3)))\n",
    "model.add(BatchNormalization())\n",
    "model.add(Activation('relu'))\n",
    "model.add(MaxPooling2D(pool_size=(2,2)))\n",
    "\n",
    "model.add(Conv2D(64, (3, 3)))\n",
    "model.add(BatchNormalization())\n",
    "model.add(Activation('relu'))\n",
    "model.add(MaxPooling2D(pool_size=(2,2)))\n",
    "\n",
    "\n",
    "model.add(Flatten())\n",
    "\n",
    "# Fully connected layer\n",
    "model.add(Dense(512))\n",
    "model.add(BatchNormalization())\n",
    "model.add(Activation('relu'))\n",
    "model.add(Dropout(0.7))\n",
    "model.add(Dense(81))\n",
    "\n",
    "model.add(Activation('softmax'))"
   ]
  },
  {
   "cell_type": "code",
   "execution_count": 74,
   "metadata": {
    "_uuid": "cd55b383a3b2b43dca6622a61baa320db1532a5e"
   },
   "outputs": [
    {
     "name": "stdout",
     "output_type": "stream",
     "text": [
      "_________________________________________________________________\n",
      "Layer (type)                 Output Shape              Param #   \n",
      "=================================================================\n",
      "conv2d_21 (Conv2D)           (None, 62, 62, 16)        448       \n",
      "_________________________________________________________________\n",
      "batch_normalization_25 (Batc (None, 62, 62, 16)        64        \n",
      "_________________________________________________________________\n",
      "activation_29 (Activation)   (None, 62, 62, 16)        0         \n",
      "_________________________________________________________________\n",
      "conv2d_22 (Conv2D)           (None, 60, 60, 16)        2320      \n",
      "_________________________________________________________________\n",
      "batch_normalization_26 (Batc (None, 60, 60, 16)        64        \n",
      "_________________________________________________________________\n",
      "activation_30 (Activation)   (None, 60, 60, 16)        0         \n",
      "_________________________________________________________________\n",
      "max_pooling2d_13 (MaxPooling (None, 30, 30, 16)        0         \n",
      "_________________________________________________________________\n",
      "conv2d_23 (Conv2D)           (None, 28, 28, 32)        4640      \n",
      "_________________________________________________________________\n",
      "batch_normalization_27 (Batc (None, 28, 28, 32)        128       \n",
      "_________________________________________________________________\n",
      "activation_31 (Activation)   (None, 28, 28, 32)        0         \n",
      "_________________________________________________________________\n",
      "conv2d_24 (Conv2D)           (None, 26, 26, 32)        9248      \n",
      "_________________________________________________________________\n",
      "batch_normalization_28 (Batc (None, 26, 26, 32)        128       \n",
      "_________________________________________________________________\n",
      "activation_32 (Activation)   (None, 26, 26, 32)        0         \n",
      "_________________________________________________________________\n",
      "max_pooling2d_14 (MaxPooling (None, 13, 13, 32)        0         \n",
      "_________________________________________________________________\n",
      "conv2d_25 (Conv2D)           (None, 11, 11, 64)        18496     \n",
      "_________________________________________________________________\n",
      "batch_normalization_29 (Batc (None, 11, 11, 64)        256       \n",
      "_________________________________________________________________\n",
      "activation_33 (Activation)   (None, 11, 11, 64)        0         \n",
      "_________________________________________________________________\n",
      "max_pooling2d_15 (MaxPooling (None, 5, 5, 64)          0         \n",
      "_________________________________________________________________\n",
      "flatten_5 (Flatten)          (None, 1600)              0         \n",
      "_________________________________________________________________\n",
      "dense_9 (Dense)              (None, 512)               819712    \n",
      "_________________________________________________________________\n",
      "batch_normalization_30 (Batc (None, 512)               2048      \n",
      "_________________________________________________________________\n",
      "activation_34 (Activation)   (None, 512)               0         \n",
      "_________________________________________________________________\n",
      "dropout_5 (Dropout)          (None, 512)               0         \n",
      "_________________________________________________________________\n",
      "dense_10 (Dense)             (None, 81)                41553     \n",
      "_________________________________________________________________\n",
      "activation_35 (Activation)   (None, 81)                0         \n",
      "=================================================================\n",
      "Total params: 899,105\n",
      "Trainable params: 897,761\n",
      "Non-trainable params: 1,344\n",
      "_________________________________________________________________\n"
     ]
    }
   ],
   "source": [
    "model.summary()"
   ]
  },
  {
   "cell_type": "code",
   "execution_count": 75,
   "metadata": {
    "_uuid": "67bef0d34b55eea446a9a1c2ffc89fd075953181"
   },
   "outputs": [],
   "source": [
    "model.compile(loss='categorical_crossentropy', optimizer=Adam(),metrics=['accuracy'])"
   ]
  },
  {
   "cell_type": "markdown",
   "metadata": {},
   "source": [
    "No augmentation."
   ]
  },
  {
   "cell_type": "code",
   "execution_count": 76,
   "metadata": {
    "_uuid": "65603368c7ef313d325818321f55910c49dbbe52"
   },
   "outputs": [
    {
     "name": "stdout",
     "output_type": "stream",
     "text": [
      "Train on 41322 samples, validate on 13877 samples\n",
      "Epoch 1/1\n",
      "41322/41322 [==============================] - 36s 861us/step - loss: 0.4600 - acc: 0.8792 - val_loss: 0.1960 - val_acc: 0.9455\n"
     ]
    },
    {
     "data": {
      "text/plain": [
       "<keras.callbacks.History at 0x7fb901e9d320>"
      ]
     },
     "execution_count": 76,
     "metadata": {},
     "output_type": "execute_result"
    }
   ],
   "source": [
    "model.fit(X_train,Y_train, epochs=1,batch_size = 32,\n",
    "                    validation_data=(X_test,Y_test))"
   ]
  },
  {
   "cell_type": "code",
   "execution_count": 77,
   "metadata": {
    "_uuid": "3d106caebdcd5ba48bc7c6542e72a34ceb9ebfda"
   },
   "outputs": [
    {
     "name": "stdout",
     "output_type": "stream",
     "text": [
      "Train on 41322 samples, validate on 13877 samples\n",
      "Epoch 1/1\n",
      "41322/41322 [==============================] - 34s 811us/step - loss: 0.0943 - acc: 0.9718 - val_loss: 0.2476 - val_acc: 0.9191\n"
     ]
    },
    {
     "data": {
      "text/plain": [
       "<keras.callbacks.History at 0x7fb8f3809f60>"
      ]
     },
     "execution_count": 77,
     "metadata": {},
     "output_type": "execute_result"
    }
   ],
   "source": [
    "model.fit(X_train,Y_train, epochs=1,batch_size = 32,\n",
    "                    validation_data=(X_test,Y_test))"
   ]
  },
  {
   "cell_type": "code",
   "execution_count": 78,
   "metadata": {
    "_uuid": "ca466672b5e9177428a5e561fe7355e2d8980a48"
   },
   "outputs": [
    {
     "name": "stdout",
     "output_type": "stream",
     "text": [
      "Train on 41322 samples, validate on 13877 samples\n",
      "Epoch 1/3\n",
      "41322/41322 [==============================] - 33s 811us/step - loss: 0.0688 - acc: 0.9790 - val_loss: 0.1010 - val_acc: 0.9653\n",
      "Epoch 2/3\n",
      "41322/41322 [==============================] - 33s 805us/step - loss: 0.0554 - acc: 0.9823 - val_loss: 0.0707 - val_acc: 0.9803\n",
      "Epoch 3/3\n",
      "41322/41322 [==============================] - 33s 807us/step - loss: 0.0535 - acc: 0.9819 - val_loss: 0.1057 - val_acc: 0.9677\n"
     ]
    },
    {
     "data": {
      "text/plain": [
       "<keras.callbacks.History at 0x7fb8f380aa20>"
      ]
     },
     "execution_count": 78,
     "metadata": {},
     "output_type": "execute_result"
    }
   ],
   "source": [
    "model.fit(X_train,Y_train, epochs=3,batch_size = 32,\n",
    "                    validation_data=(X_test,Y_test))"
   ]
  },
  {
   "cell_type": "code",
   "execution_count": 79,
   "metadata": {
    "_uuid": "0fe856e84c1985496cc187f17c1c04b84a76bdbe"
   },
   "outputs": [],
   "source": [
    "predictions = model.predict_classes(X_test)\n",
    "\n",
    "predictions = list(predictions)\n",
    "actuals = list(y_test)\n",
    "\n",
    "sub = pd.DataFrame({'Actual': actuals, 'Predictions': predictions})\n",
    "sub.to_csv('./output_cnn.csv', index=False)"
   ]
  },
  {
   "cell_type": "markdown",
   "metadata": {},
   "source": [
    "Augmentation."
   ]
  },
  {
   "cell_type": "code",
   "execution_count": 80,
   "metadata": {
    "_uuid": "e0a2c7a7814251046831f16449650565e8f78977"
   },
   "outputs": [],
   "source": [
    "gen = ImageDataGenerator(width_shift_range=.2, \n",
    "                             height_shift_range=.2,\n",
    "                         zoom_range = 0.1,\n",
    "                        horizontal_flip = 'True')\n",
    "\n",
    "test_gen = ImageDataGenerator()\n",
    "train_generator = gen.flow(X_train, Y_train, batch_size=32)\n",
    "test_generator = test_gen.flow(X_test, Y_test, batch_size=32)"
   ]
  },
  {
   "cell_type": "code",
   "execution_count": 81,
   "metadata": {
    "_uuid": "3173183a08b68f9c700bafd522eb8807605597ea"
   },
   "outputs": [
    {
     "name": "stdout",
     "output_type": "stream",
     "text": [
      "13877/13877 [==============================] - 3s 214us/step\n",
      "\n",
      "Test loss:  0.10573129625911125\n",
      "Test Accuracy 0.9677163652086186\n"
     ]
    }
   ],
   "source": [
    "score = model.evaluate(X_test, Y_test)\n",
    "print()\n",
    "print('Test loss: ', score[0])\n",
    "print('Test Accuracy', score[1])"
   ]
  }
 ],
 "metadata": {
  "kernelspec": {
   "display_name": "Python 2",
   "language": "python",
   "name": "python2"
  },
  "language_info": {
   "codemirror_mode": {
    "name": "ipython",
    "version": 2
   },
   "file_extension": ".py",
   "mimetype": "text/x-python",
   "name": "python",
   "nbconvert_exporter": "python",
   "pygments_lexer": "ipython2",
   "version": "2.7.15"
  }
 },
 "nbformat": 4,
 "nbformat_minor": 1
}
